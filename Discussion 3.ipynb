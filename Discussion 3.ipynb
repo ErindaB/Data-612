{
 "cells": [
  {
   "cell_type": "markdown",
   "metadata": {},
   "source": [
    "# As more systems and sectors are driven by predictive analytics, there is increasing awareness of the possibility and pitfalls of algorithmic discrimination. In what ways do you think Recommender Systems reinforce human bias?\n",
    "\n",
    "Recommender systems are nowadays a pervasive technology influencing our daily lives and strengthening the\n",
    "filter bubbles in which we all live: the media we consume, the stories we read, the people we connect to,\n",
    "the places we visit, the jobs we apply to, and the ads we see on the Web. It is therefore of societal and ethical importance to ask whether collaborative filtering algorithms, used for recommendation and personalization, might be involuntarily perpetuating existing bias towards some specific demographic groups.\n",
    "It turns out that the answer is positive: for instance, recent studies have shown that Google’s online advertising system\n",
    "displays ads for high-income jobs to men much more often than it does to women ; and ads related to arrest records are significantly more likely to show up on searches for distinctively black names.Note that this algorithmic bias exists even when there is no discrimination intention in the developer of the algorithm, and even when the recommender system\n",
    "does not take as input any demographic information: nevertheless, by carefully exploiting items’ and users’\n",
    "similarities, the algorithm might end up recommending an item to a very homogeneous set of users."
   ]
  },
  {
   "cell_type": "markdown",
   "metadata": {},
   "source": [
    "# Reflecting on the techniques we have covered, do you think recommender systems reinforce or help to prevent unethical targeting or customer segmentation?  Please provide one or more examples to support your arguments.\n",
    "\n",
    "\n",
    "Social media has been effective in showing us what we want to see but has also helped create echo-chambers at a large scale.\n",
    "Recent events have sparked research on de-siloing these information bubbles from different perspectives.\n",
    "It is clear that social media platforms are helping spread divisive messages online at an alarming rate and potentially fueling offline violence.\n",
    "But the debate is about whether these platforms are an essential cause, without which these events could not have happened, or merely reflect real-world tensions.\n",
    "One of the most common applications of machine learning today is in recommendation algorithms.\n",
    "Netflix and YouTube use them to push you new shows and videos;\n",
    "Google and Facebook use them to rank the content in your search results and news feed.\n",
    "Former YouTube engineer Guillame Chaslot reported this phenomenon in his twitter post during the Brexit campaign and the 2016 U.S. elections\n",
    "While these algorithms offer a great deal of convenience, they have some undesirable side effects. You’ve probably heard of them before: filter bubbles and echo chambers"
   ]
  }
 ],
 "metadata": {
  "kernelspec": {
   "display_name": "Python 3",
   "language": "python",
   "name": "python3"
  },
  "language_info": {
   "codemirror_mode": {
    "name": "ipython",
    "version": 3
   },
   "file_extension": ".py",
   "mimetype": "text/x-python",
   "name": "python",
   "nbconvert_exporter": "python",
   "pygments_lexer": "ipython3",
   "version": "3.7.4"
  }
 },
 "nbformat": 4,
 "nbformat_minor": 2
}
