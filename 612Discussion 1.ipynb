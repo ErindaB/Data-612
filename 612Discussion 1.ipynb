{
 "cells": [
  {
   "cell_type": "markdown",
   "metadata": {},
   "source": [
    "---\n",
    "title: \"Research Discussion Assignment 1\"\n",
    "author: \"Erinda Budo\"\n",
    "---\n",
    "\n",
    "\n",
    "# Commercial Recommender\n",
    "Choose one commercial recommender.\n",
    "\n",
    "1. Describe how you think it works (content-based, collaborative filtering, etc).\n",
    "2. Does the technique deliver a good experience or are the recommendations off-target?\n",
    "\n",
    "---\n",
    "\n",
    "Youtube\n",
    "\n",
    "1. Youtube's system uses  hybrid recommendation systems (collaborated filtering and content-based). It takes what the user has  watched and uses collaborative filtering to pick videos with similar themes. After that, based on user's selection ,it looks at your content and either narrows down your interests or expands what you might be into.\n",
    "\n",
    "2. In my opinion the recommendations aren't really off-target. It never happened to me that Youtube  recommended something I wasn't already looking for. If you go in for latest song videos, you're gonna get latest song.  Though, that's only in terms of entertainment. It's when I'm searching for more academic videos that this perception is really challenged. So, if I had to rate the overall experience as \"good\" or \"bad,\" I'd lean on the side of good. The suggestions are safe and I can respect not taking a risk when it comes to recommendations.\n",
    "\n",
    "# Non-personalized Recommender\n",
    "Also choose one of the three non-personalized recommenders (below) and describe the technique and which of the three you prefer to use:\n",
    "\n",
    "1. Metacritic:  http://www.metacritic.com/about-metascores\n",
    "2. Rotten Tomatoes:https://www.rottentomatoes.com/about/\n",
    "3. IMDB Rating:  http://imdb.to/ 2ljPH90\n",
    "\n",
    "---\n",
    "\n",
    "Rotten Tomatoes\n",
    "\n",
    "I prefer mostly  Rotten Tomatoes which assigns a certified fresh rating to media items that meet the following criteria: A steady rating score of 75% or higher. At least five reviews from Top Critics. At least 80 reviews for films in wide release.  I can acknowledge that this probably does not make it the most reliable scoring method. Its grades rely on the percentage of critics who judge the film to be more positive than negative and the critics themselves have to meet certain criteria to be called \"critics\". There's also a subset of \"top critics\" (more active users) and those scores are separately calculated. The more reviews, the more RT measures the percentage of more-positive-than-negative to assign the overall \"freshness\". I think the thing to keep in mind is that RT doesn't measure the movie's score based on popular opinion, but rather the general consensus on whether the movie is \"fresh\". It's like a raise of hands. Who thinks this movie is worth watching?\n",
    "\n",
    "\n",
    "# Attacks on Recommender System\n",
    "\n",
    "Read the article\n",
    "https://www.washingtonpost.com/news/morning-mix/wp/2017/04/19/wisdom-of-the-crowd-imdb-users-gang-up-on-the-promise-before-it-even-opens/?utm_term=.329a75ece088\n",
    "\n",
    "1. Consider how to handle attacks on recommender systems.\n",
    "2. Can you think of a similar example where a collective effort to alter the workings of content recommendations have been successful?\n",
    "3. How would you design a system to prevent this kind of abuse?\n",
    "\n",
    "---\n",
    "\n",
    "1. It is impossible to avoid the abuse, but it is managable.  I think that you can get people curious enough to wonder why a movie tanked before it even came out. One of the ways to handle this on a more general level is to know the people behind the data, so maybe focus on recommender system access and security.\n",
    "\n",
    "2. Here is an example of a method to sway individuals using Yelp's system https://www.theverge.com/2017/8/31/16232180/ai-fake-reviews-yelp-amazon. \n",
    "\n",
    "3. It has been shown that not only the collaborative recommender systems but also the content-based algorithm, which was thought to be relatively tough, are vulnerable to the reduced-knowledge attack. But using model-based or hybrid algorithms combining collaborative recommendation and other types of recommendation algorithm could effectively make the system more defensive to attack.\n",
    "   Monitoring the recommender systems and detecting the attack is also very important to prevent the system subversion and to   keep the systems healthy. Statistical methods could be used to detect the attack, including detecting the groups of users who push or nuke items, monitoring the development of ratings for an item, and using machine-learning methods to discriminate real from fake profiles.\n",
    "\n",
    "\n",
    "\n",
    "\n",
    "\n"
   ]
  }
 ],
 "metadata": {
  "kernelspec": {
   "display_name": "Python 3",
   "language": "python",
   "name": "python3"
  },
  "language_info": {
   "codemirror_mode": {
    "name": "ipython",
    "version": 3
   },
   "file_extension": ".py",
   "mimetype": "text/x-python",
   "name": "python",
   "nbconvert_exporter": "python",
   "pygments_lexer": "ipython3",
   "version": "3.7.4"
  }
 },
 "nbformat": 4,
 "nbformat_minor": 2
}
