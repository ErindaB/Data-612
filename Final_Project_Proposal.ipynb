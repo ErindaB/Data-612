{
 "cells": [
  {
   "cell_type": "markdown",
   "metadata": {},
   "source": [
    "# DATA 612 - Final Project Proposal\n",
    "Erinda Budo\n",
    "\n",
    "7/9/2020"
   ]
  },
  {
   "cell_type": "markdown",
   "metadata": {},
   "source": [
    "# Instructions\n",
    "Find an interesting dataset and describe the system you plan to build out. If you would like to use one of the datasets you have already worked with, you should add a unique element or incorporate additional data. (i.e. explicit features you scrape from another source, like image analysis on movie posters). The overall goal, however, will be to produce quality recommendations by extracting insights from a large dataset. You may do so using Spark, or another distributed computing method, OR by effectively applying one of the more advanced mathematical techniques we have covered. There is no preference for one over the other, as long as your recommender works!"
   ]
  },
  {
   "cell_type": "markdown",
   "metadata": {},
   "source": [
    "# Dataset\n",
    "For the final project, I've decided to use th dataset  from MovieLens,  available at http://grouplens.org/datasets/movielens/latest. The dataset contains 105339 ratings and 6138 tag applications across 10329 movies."
   ]
  },
  {
   "cell_type": "markdown",
   "metadata": {},
   "source": [
    "# Design Steps\n",
    "\n",
    "To create the recommender system, both content-based and collaborative-filtering algorithms will be used and compared, including but not limited to User-to-User Collaborative Filtering, Item-to-Item Collaborative Filtering.The steps I will take while working on this dataset are  transform, clean, design, test and measure performance of the Recommender system.In addition,the following steps will be decide which type of recommender will be the best so trying at least to recommenders and methods will be a must to test for performance against the dataset thinking on IBCF and UBCF models.\n",
    "Once decided  will measure similarity of data and do further statistical exploration sucha as distribution of ratings, views,etc.\n",
    "Prepare data to be fed to the models such as creation and preparation of sparse matrix and data normalization and other needed procedures\n",
    "Define the test/training datasets and build the recommendation models, test the datasets\n",
    "Evaluate the recommender systems, Choose the best performing and optimize parameters part of this analysis will be compare all the recommenders with things such as ROC Curve and Precision Call."
   ]
  },
  {
   "cell_type": "markdown",
   "metadata": {},
   "source": [
    "# Implementation\n",
    "\n",
    "Will construct a shiny app with the implementation of the Recommender system."
   ]
  }
 ],
 "metadata": {
  "kernelspec": {
   "display_name": "Python 3",
   "language": "python",
   "name": "python3"
  },
  "language_info": {
   "codemirror_mode": {
    "name": "ipython",
    "version": 3
   },
   "file_extension": ".py",
   "mimetype": "text/x-python",
   "name": "python",
   "nbconvert_exporter": "python",
   "pygments_lexer": "ipython3",
   "version": "3.7.4"
  }
 },
 "nbformat": 4,
 "nbformat_minor": 2
}
