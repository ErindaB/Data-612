{
 "cells": [
  {
   "cell_type": "markdown",
   "metadata": {},
   "source": [
    "# DATA 612 - Final Project Proposal\n",
    "Erinda Budo\n",
    "\n",
    "7/9/2020"
   ]
  },
  {
   "cell_type": "markdown",
   "metadata": {},
   "source": [
    "# Instructions\n",
    "Find an interesting dataset and describe the system you plan to build out. If you would like to use one of the datasets you have already worked with, you should add a unique element or incorporate additional data. (i.e. explicit features you scrape from another source, like image analysis on movie posters). The overall goal, however, will be to produce quality recommendations by extracting insights from a large dataset. You may do so using Spark, or another distributed computing method, OR by effectively applying one of the more advanced mathematical techniques we have covered. There is no preference for one over the other, as long as your recommender works!\n"
   ]
  },
  {
   "cell_type": "markdown",
   "metadata": {},
   "source": [
    "# Dataset\n",
    "For the final project, I've decided to use the  Book-Crossing dataset retrieved from http://www2.informatik.uni-freiburg.de/~cziegler/BX/ to build a custom recommender system that recommends books to users. The dataset contains 1.2 million ratings, including information such as User Id, user demographic (location, age), Book Title, Author, Year of Publication, Publisher, ISBN."
   ]
  },
  {
   "cell_type": "markdown",
   "metadata": {},
   "source": [
    "# Implementation\n",
    "To create the recommender system, both content-based and collaborative-filtering algorithms will be used and compared, including but not limited to User-to-User Collaborative Filtering, Item-to-Item Collaborative Filtering, Singular Value Decomposition and Most Popular Items Recommendation. While performing an exploratory analysis on the ratings, a look into the dataset's locations and age groups will also be conducted to ascertain whether there is enough content to create recommendations taking into account places and age ranges.\n",
    "\n",
    "The implementation and evaluation will be performed in R and Apache Spark."
   ]
  }
 ],
 "metadata": {
  "kernelspec": {
   "display_name": "Python 3",
   "language": "python",
   "name": "python3"
  },
  "language_info": {
   "codemirror_mode": {
    "name": "ipython",
    "version": 3
   },
   "file_extension": ".py",
   "mimetype": "text/x-python",
   "name": "python",
   "nbconvert_exporter": "python",
   "pygments_lexer": "ipython3",
   "version": "3.7.4"
  }
 },
 "nbformat": 4,
 "nbformat_minor": 2
}
